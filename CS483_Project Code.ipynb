{
  "cells": [
    {
      "cell_type": "markdown",
      "metadata": {
        "id": "kz3FowXEZe9R"
      },
      "source": [
        "## Step 1: Importing the Modules\n",
        "To work the News API, we need to import the following modules:\n",
        "\n",
        "* `NewsApiClient` from `newsapi`: This module will be used to interact with the API and get the news from different sources.\n",
        "* `random`: This module will be used to generate random numbers for the news.\n",
        "* `train_test_split` from `sklearn.model_selection`: This module will be used to create random training and testing subsets using the DataFrame.\n",
        "* `CountVectorizer` from `sklearn.feature_extraction.text`: This module will be used to create a matrix of token count from the text document.\n",
        "* `PassiveAggressiveClassifier` from `sklearn.linear_model`: This module will be used to create a linear model, `PassiveAggressiveClassifier` that will be used to classify the real news from fake news.\n",
        "* `MultinomialNB` from `sklearn.naive_bayes`: This module will be used to initialize the `MultinomialNB` model that will be used to classify the real news from fake news.\n",
        "* `RandomForestClassifier` from `sklearn.ensemble`: This module will be used to initialize the `RandomForestClassifier` model that will be used to classify the real news from fake news.\n",
        "* `XGBClassifier` from `xgboost`: This module will be used to initialize the `XGBClassifier` wrapper of the xgb.train model used to classify the real news from fake news.\n",
        "* `accuracy_score` and `confusion_matrix` from `sklearn.metrics`: These modules will be used to calculate the model’s accuracy by testing the model using the test data and to show the confusion matrix."
      ]
    },
    {
      "cell_type": "code",
      "execution_count": 11,
      "metadata": {
        "colab": {
          "base_uri": "https://localhost:8080/"
        },
        "id": "0lwYcHE6rwL_",
        "outputId": "5c0afb5e-766a-43d9-ec3f-d24f7b1e219d"
      },
      "outputs": [
        {
          "output_type": "stream",
          "name": "stdout",
          "text": [
            "Looking in indexes: https://pypi.org/simple, https://us-python.pkg.dev/colab-wheels/public/simple/\n",
            "Requirement already satisfied: newsapi-python in /usr/local/lib/python3.10/dist-packages (0.2.7)\n",
            "Requirement already satisfied: requests<3.0.0 in /usr/local/lib/python3.10/dist-packages (from newsapi-python) (2.27.1)\n",
            "Requirement already satisfied: certifi>=2017.4.17 in /usr/local/lib/python3.10/dist-packages (from requests<3.0.0->newsapi-python) (2022.12.7)\n",
            "Requirement already satisfied: charset-normalizer~=2.0.0 in /usr/local/lib/python3.10/dist-packages (from requests<3.0.0->newsapi-python) (2.0.12)\n",
            "Requirement already satisfied: urllib3<1.27,>=1.21.1 in /usr/local/lib/python3.10/dist-packages (from requests<3.0.0->newsapi-python) (1.26.15)\n",
            "Requirement already satisfied: idna<4,>=2.5 in /usr/local/lib/python3.10/dist-packages (from requests<3.0.0->newsapi-python) (3.4)\n"
          ]
        }
      ],
      "source": [
        "!pip3 install newsapi-python"
      ]
    },
    {
      "cell_type": "code",
      "execution_count": 12,
      "metadata": {
        "id": "UR9LcFqRIxdR"
      },
      "outputs": [],
      "source": [
        "import seaborn as sns\n",
        "import random\n",
        "from newsapi import NewsApiClient\n",
        "import pandas as pd\n",
        "import matplotlib.pyplot as plt\n",
        "from sklearn.model_selection import train_test_split\n",
        "from sklearn.metrics import accuracy_score\n",
        "from sklearn.feature_extraction.text import CountVectorizer\n",
        "from sklearn.linear_model import PassiveAggressiveClassifier\n",
        "from sklearn.ensemble import RandomForestClassifier\n",
        "from sklearn.naive_bayes import MultinomialNB\n",
        "from sklearn.metrics import confusion_matrix\n",
        "from datetime import datetime, timedelta\n",
        "from xgboost import XGBClassifier\n",
        "from sklearn.neural_network import MLPClassifier"
      ]
    },
    {
      "cell_type": "markdown",
      "metadata": {
        "id": "jPhil0taZ0p1"
      },
      "source": [
        "## Step 2: Method to Get News \n",
        "We will create a method to get the news data from the News API. To interact with the News API, an API key is required.\n",
        "\n",
        "We will do the following:\n",
        "* We call the `NewsApiClient()` method and pass the API key to this method.\n",
        "* We then create a method to get the news data from the API. We use the `get_everything()` method from the `NewsApiClient` to get data and pass the following parameters to the method:\n",
        "\n",
        "  * `sources`: This is used to specify the source to get news from. This is a comma-separated string.\n",
        "  * `domains`: This is used to restrict the domain of search. This is a comma-separated string.\n",
        "  * `from_param`: This specifies the oldest news to get from the API.\n",
        "  * `to`: To specify the date of the newest news from the search.\n",
        "  * `language`: This is used to specify the language of response from the API. \n",
        "  * `sort_by`: This is used to specify the order of the news to get from the search. Some possible options are `relevancy`, `popularity`, `publishedAt`. By default, the method will sort the records by their publishing date.\n",
        "  * `page`: This is used to specify the page of the source to get the results from. By default this will use the first page to get the results.\n",
        "\n",
        "* Finally after getting the results from the API, we will pass the results to an array and return that array."
      ]
    },
    {
      "cell_type": "code",
      "execution_count": 13,
      "metadata": {
        "id": "dGunnMAFI7mA"
      },
      "outputs": [],
      "source": [
        "prev_date = datetime.today() - timedelta(days=30)\n",
        "next_date = datetime.today() - timedelta(days=0)\n",
        "\n",
        "p_date = prev_date.strftime('%Y-%m-%d')\n",
        "c_date = next_date.strftime('%Y-%m-%d')\n",
        "\n",
        "newsapi = NewsApiClient(api_key='efc604f32dc1481b8a07c143946b3839')\n",
        "\n",
        "def getNews(sourceId):\n",
        "    newses = newsapi.get_everything(sources=sourceId,domains='bbc.co.uk,techcrunch.com',from_param=p_date,to=c_date,language='en',sort_by='relevancy',page=2)\n",
        "    newsData = []\n",
        "    for news in newses['articles']:\n",
        "        list = [random.randint(0, 1000), news['title'],news['content'], 'REAL']\n",
        "        newsData.append(list)\n",
        "    return newsData"
      ]
    },
    {
      "cell_type": "markdown",
      "metadata": {
        "id": "oUgkuYl8eupn"
      },
      "source": [
        "## Step 3: Get the News Sources\n",
        "\n",
        "The official documentation of the News API says that there are `3000` authenticated news sources. We will now get the news sources using the News API. We will first get all the sources from the News API. Then we will add the ID of each source to a list. Finally we will truncate the list to a size of `10`, and get news from those sources.\n"
      ]
    },
    {
      "cell_type": "code",
      "execution_count": 14,
      "metadata": {
        "colab": {
          "base_uri": "https://localhost:8080/"
        },
        "id": "zrbWplYIMHFC",
        "outputId": "72f9153c-7378-428b-a3dc-93c3e403cde5"
      },
      "outputs": [
        {
          "output_type": "stream",
          "name": "stdout",
          "text": [
            "New Sources:  ['abc-news', 'abc-news-au', 'aftenposten', 'al-jazeera-english', 'ansa', 'argaam', 'ars-technica', 'ary-news', 'associated-press', 'australian-financial-review']\n"
          ]
        }
      ],
      "source": [
        "sources = newsapi.get_sources()\n",
        "sourceList = []\n",
        "for source in sources['sources']:\n",
        "    sourceList.append(source['id'])\n",
        "del sourceList[10:len(sourceList)]\n",
        "print('New Sources: ', sourceList)"
      ]
    },
    {
      "cell_type": "markdown",
      "metadata": {
        "id": "fVVDcKOyfTEO"
      },
      "source": [
        "## Step 4: Get News Using Multiple Sources\n",
        "Now we will get news using multiple sources. After getting the news sources, we will use the `getNews()` method defined earlier to get the news from the API. Next we will create a new DataFrame using the news list and finally we will add new column headings to the DataFrame."
      ]
    },
    {
      "cell_type": "code",
      "execution_count": 15,
      "metadata": {
        "colab": {
          "base_uri": "https://localhost:8080/"
        },
        "id": "2D9AYq0IMG7Z",
        "outputId": "fe61edaf-2b6b-4bd2-e5da-004167910fd9"
      },
      "outputs": [
        {
          "output_type": "stream",
          "name": "stdout",
          "text": [
            "Total News:  1000\n"
          ]
        }
      ],
      "source": [
        "dataList = []\n",
        "for sourceId in sourceList:\n",
        "    newses = getNews(sourceId)\n",
        "    dataList = dataList + newses\n",
        "\n",
        "print('Total News: ', len(dataList))"
      ]
    },
    {
      "cell_type": "code",
      "execution_count": 16,
      "metadata": {
        "colab": {
          "base_uri": "https://localhost:8080/"
        },
        "id": "PqAVBQZHMvW4",
        "outputId": "ae242a39-092d-4416-c994-21eb3afc2360"
      },
      "outputs": [
        {
          "output_type": "stream",
          "name": "stdout",
          "text": [
            "                                                    title  \\\n",
            "0  335  Novak Djokovic has withdrawn from Madrid Open,...   \n",
            "1  413  Timed Teaser: Which other A-lister watched Wre...   \n",
            "2  892  Curious Alaskan moose visits the cinema for an...   \n",
            "3  530   Nuclear weapons: Why South Koreans want the bomb   \n",
            "4  681  Alejandro Toledo: Peru ex-president to be extr...   \n",
            "\n",
            "                                                text label  \n",
            "0  Novak Djokovic wore strapping on his right elb...  REAL  \n",
            "1  Test your news knowledge against the clock. Ca...  REAL  \n",
            "2  Alaskan moose visits the cinema...and steals p...  REAL  \n",
            "3  Hidden away in the private room of an undergro...  REAL  \n",
            "4  Former Peruvian President Alejandro Toledo has...  REAL  \n"
          ]
        }
      ],
      "source": [
        "df = pd.DataFrame.from_records(dataList)\n",
        "df.columns = ['','title','text','label']\n",
        "print(df.head())"
      ]
    },
    {
      "cell_type": "markdown",
      "metadata": {
        "id": "1So0qPw9f7yL"
      },
      "source": [
        "## Step 5: Load and Concat the DataFrame\n",
        "\n",
        "News API claims that all of their news are authenticated, therefore we will need another dataset that contains both fake news and real news to train the model. To create a DataFrame that consists of fake news and real news, we will load the data from the `news.csv` file. We will then add the column headings to the DataFrame. Finally we will use pandas to concat both DataFrames to create a new DataFrame."
      ]
    },
    {
      "cell_type": "code",
      "execution_count": 17,
      "metadata": {
        "colab": {
          "base_uri": "https://localhost:8080/"
        },
        "id": "RGaGJs05OdSP",
        "outputId": "9b20f128-705b-4563-948d-2aa540b7dd7e"
      },
      "outputs": [
        {
          "output_type": "stream",
          "name": "stdout",
          "text": [
            "                                                      title  \\\n",
            "0   8476                       You Can Smell Hillary’s Fear   \n",
            "1  10294  Watch The Exact Moment Paul Ryan Committed Pol...   \n",
            "2   3608        Kerry to go to Paris in gesture of sympathy   \n",
            "3  10142  Bernie supporters on Twitter erupt in anger ag...   \n",
            "4    875   The Battle of New York: Why This Primary Matters   \n",
            "\n",
            "                                                text label  \n",
            "0  Daniel Greenfield, a Shillman Journalism Fello...  FAKE  \n",
            "1  Google Pinterest Digg Linkedin Reddit Stumbleu...  FAKE  \n",
            "2  U.S. Secretary of State John F. Kerry said Mon...  REAL  \n",
            "3  — Kaydee King (@KaydeeKing) November 9, 2016 T...  FAKE  \n",
            "4  It's primary day in New York and front-runners...  REAL  \n"
          ]
        }
      ],
      "source": [
        "trainData = pd.read_csv('news.csv')\n",
        "trainData.columns = ['', 'title', 'text', 'label']\n",
        "data = [trainData, df]\n",
        "df = pd.concat(data)\n",
        "print(df.head())"
      ]
    },
    {
      "cell_type": "markdown",
      "metadata": {
        "id": "mXajd0ifibZt"
      },
      "source": [
        "## Step 6: Split the Training and Testing Data\n",
        "\n",
        "We will now split the training and testing data from the DataFrame. We will use `70%` of the data for training and `30%` for testing. To split the training and testing data, use the `train_test_split()` method. We will set the following parameters:\n",
        "\n",
        "  * `test_size`: This parameter accepts a floating value between `0.0` and `1.0` used to evaluate the percentage of testing data from the DataFrame, in our case we will set it to `0.3`.\n",
        "  * `random_state`: This parameter accepts an integer value used to add a random shuffle to the DataFrame before applying the split, in our case we will set it to `7`."
      ]
    },
    {
      "cell_type": "code",
      "execution_count": 18,
      "metadata": {
        "id": "kEH3PaN6Oea6"
      },
      "outputs": [],
      "source": [
        "training_x, testing_x, training_y, testing_y = train_test_split(df['text'], df.label, test_size=0.3, random_state=7)"
      ]
    },
    {
      "cell_type": "markdown",
      "metadata": {
        "id": "0bGBSbfyjMjI"
      },
      "source": [
        "## Step 7: Feature Selection\n",
        "After splitting the training and testing data, let’s start the feature selection using the scikit-learn method `CountVectorizer()` which is used to convert text to numerical data. This method accepts the following parameters:\n",
        "\n",
        "  * `stop_words`: Stop words such as “and,” “the,” and “him” are assumed to be uninformative in representing the content of a text. Therefore they can be removed to avoid being interpreted as a signal for prediction. Similar words can be helpful for prediction in some cases, such as classifying writing style or personality.\n",
        "  * `max_df`: When creating the vocabulary, exclude terms with a document frequency that is strictly greater than the given threshold (corpus-specific stop words). If the parameter is a float, it represents a percentage of documents; otherwise, it means absolute counts. If the vocabulary is None, this parameter is ignored."
      ]
    },
    {
      "cell_type": "code",
      "execution_count": 19,
      "metadata": {
        "id": "hgvr7NzWOfdD"
      },
      "outputs": [],
      "source": [
        "count_vectorizer = CountVectorizer(stop_words='english', max_df=0.7)\n",
        "feature_train = count_vectorizer.fit_transform(training_x)\n",
        "feature_test = count_vectorizer.transform(testing_x)"
      ]
    },
    {
      "cell_type": "markdown",
      "metadata": {
        "id": "SLk_jQ05jp4J"
      },
      "source": [
        "## Step 8: Implement the Classifiers\n",
        "\n",
        "Now that we are done with the feature selection part, let’s apply the classifier to the training data. To apply the classifier to the data, we will perform the following steps:\n",
        "\n",
        "* First we will first initialize the `PassiveAggressiveClassifier`. Passive-aggressive algorithms are a family of algorithms for large-scale learning. They are similar to the Perceptron in that they do not require a learning rate. However, contrary to the Perceptron, they include a regularization parameter. This algorithm uses the passive technique, which states that if the prediction is correct, keep the model; only change the model if the prediction is incorrect.\n",
        "\n",
        "  * We will then call the `fit()` method from the `PassiveAggressiveClassifier` and pass the features of the training data along with the labels.\n",
        "\n",
        "* Next we will first initialize the `MultinomialNB`. A Naive Bayes classifier is a probabilistic machine learning model that’s used for the classification task. The Multinomial Naive Bayes classifier is suitable for classification with discrete features.\n",
        "\n",
        "  * We will then also call the `fit()` method from the `MultinomialNB` and pass the features of the training data along with the labels.\n",
        "\n",
        "  * We will again call the `fit()` method from the `XGBClassifier` and pass the features of the training data along with the labels.\n",
        "\n",
        "* Next we initialize the `RandomForestClassifier`. RandomForest is a textbook technique often used for binary classification tasks of the kind. \n",
        "\n",
        "  * We will then also call the `fit()` method from the `RandomForestClassifier` and pass the features of the training data along with the labels."
      ]
    },
    {
      "cell_type": "markdown",
      "metadata": {
        "id": "EEn-39_jkdpG"
      },
      "source": [
        "### Initialize and Apply PassiveAggressiveClassifier"
      ]
    },
    {
      "cell_type": "code",
      "execution_count": 20,
      "metadata": {
        "colab": {
          "base_uri": "https://localhost:8080/",
          "height": 74
        },
        "id": "JEiyZUDFOgay",
        "outputId": "d3102558-b721-40b3-adf9-53b2b0808eff"
      },
      "outputs": [
        {
          "output_type": "execute_result",
          "data": {
            "text/plain": [
              "PassiveAggressiveClassifier(max_iter=50)"
            ],
            "text/html": [
              "<style>#sk-container-id-1 {color: black;background-color: white;}#sk-container-id-1 pre{padding: 0;}#sk-container-id-1 div.sk-toggleable {background-color: white;}#sk-container-id-1 label.sk-toggleable__label {cursor: pointer;display: block;width: 100%;margin-bottom: 0;padding: 0.3em;box-sizing: border-box;text-align: center;}#sk-container-id-1 label.sk-toggleable__label-arrow:before {content: \"▸\";float: left;margin-right: 0.25em;color: #696969;}#sk-container-id-1 label.sk-toggleable__label-arrow:hover:before {color: black;}#sk-container-id-1 div.sk-estimator:hover label.sk-toggleable__label-arrow:before {color: black;}#sk-container-id-1 div.sk-toggleable__content {max-height: 0;max-width: 0;overflow: hidden;text-align: left;background-color: #f0f8ff;}#sk-container-id-1 div.sk-toggleable__content pre {margin: 0.2em;color: black;border-radius: 0.25em;background-color: #f0f8ff;}#sk-container-id-1 input.sk-toggleable__control:checked~div.sk-toggleable__content {max-height: 200px;max-width: 100%;overflow: auto;}#sk-container-id-1 input.sk-toggleable__control:checked~label.sk-toggleable__label-arrow:before {content: \"▾\";}#sk-container-id-1 div.sk-estimator input.sk-toggleable__control:checked~label.sk-toggleable__label {background-color: #d4ebff;}#sk-container-id-1 div.sk-label input.sk-toggleable__control:checked~label.sk-toggleable__label {background-color: #d4ebff;}#sk-container-id-1 input.sk-hidden--visually {border: 0;clip: rect(1px 1px 1px 1px);clip: rect(1px, 1px, 1px, 1px);height: 1px;margin: -1px;overflow: hidden;padding: 0;position: absolute;width: 1px;}#sk-container-id-1 div.sk-estimator {font-family: monospace;background-color: #f0f8ff;border: 1px dotted black;border-radius: 0.25em;box-sizing: border-box;margin-bottom: 0.5em;}#sk-container-id-1 div.sk-estimator:hover {background-color: #d4ebff;}#sk-container-id-1 div.sk-parallel-item::after {content: \"\";width: 100%;border-bottom: 1px solid gray;flex-grow: 1;}#sk-container-id-1 div.sk-label:hover label.sk-toggleable__label {background-color: #d4ebff;}#sk-container-id-1 div.sk-serial::before {content: \"\";position: absolute;border-left: 1px solid gray;box-sizing: border-box;top: 0;bottom: 0;left: 50%;z-index: 0;}#sk-container-id-1 div.sk-serial {display: flex;flex-direction: column;align-items: center;background-color: white;padding-right: 0.2em;padding-left: 0.2em;position: relative;}#sk-container-id-1 div.sk-item {position: relative;z-index: 1;}#sk-container-id-1 div.sk-parallel {display: flex;align-items: stretch;justify-content: center;background-color: white;position: relative;}#sk-container-id-1 div.sk-item::before, #sk-container-id-1 div.sk-parallel-item::before {content: \"\";position: absolute;border-left: 1px solid gray;box-sizing: border-box;top: 0;bottom: 0;left: 50%;z-index: -1;}#sk-container-id-1 div.sk-parallel-item {display: flex;flex-direction: column;z-index: 1;position: relative;background-color: white;}#sk-container-id-1 div.sk-parallel-item:first-child::after {align-self: flex-end;width: 50%;}#sk-container-id-1 div.sk-parallel-item:last-child::after {align-self: flex-start;width: 50%;}#sk-container-id-1 div.sk-parallel-item:only-child::after {width: 0;}#sk-container-id-1 div.sk-dashed-wrapped {border: 1px dashed gray;margin: 0 0.4em 0.5em 0.4em;box-sizing: border-box;padding-bottom: 0.4em;background-color: white;}#sk-container-id-1 div.sk-label label {font-family: monospace;font-weight: bold;display: inline-block;line-height: 1.2em;}#sk-container-id-1 div.sk-label-container {text-align: center;}#sk-container-id-1 div.sk-container {/* jupyter's `normalize.less` sets `[hidden] { display: none; }` but bootstrap.min.css set `[hidden] { display: none !important; }` so we also need the `!important` here to be able to override the default hidden behavior on the sphinx rendered scikit-learn.org. See: https://github.com/scikit-learn/scikit-learn/issues/21755 */display: inline-block !important;position: relative;}#sk-container-id-1 div.sk-text-repr-fallback {display: none;}</style><div id=\"sk-container-id-1\" class=\"sk-top-container\"><div class=\"sk-text-repr-fallback\"><pre>PassiveAggressiveClassifier(max_iter=50)</pre><b>In a Jupyter environment, please rerun this cell to show the HTML representation or trust the notebook. <br />On GitHub, the HTML representation is unable to render, please try loading this page with nbviewer.org.</b></div><div class=\"sk-container\" hidden><div class=\"sk-item\"><div class=\"sk-estimator sk-toggleable\"><input class=\"sk-toggleable__control sk-hidden--visually\" id=\"sk-estimator-id-1\" type=\"checkbox\" checked><label for=\"sk-estimator-id-1\" class=\"sk-toggleable__label sk-toggleable__label-arrow\">PassiveAggressiveClassifier</label><div class=\"sk-toggleable__content\"><pre>PassiveAggressiveClassifier(max_iter=50)</pre></div></div></div></div></div>"
            ]
          },
          "metadata": {},
          "execution_count": 20
        }
      ],
      "source": [
        "classifier = PassiveAggressiveClassifier(max_iter=50)\n",
        "classifier.fit(feature_train, training_y)"
      ]
    },
    {
      "cell_type": "markdown",
      "metadata": {
        "id": "I9iHnttJkf6b"
      },
      "source": [
        "### Initialize and Apply MultinomialNB"
      ]
    },
    {
      "cell_type": "code",
      "execution_count": 21,
      "metadata": {
        "colab": {
          "base_uri": "https://localhost:8080/",
          "height": 74
        },
        "id": "vV1f4MPMZA-J",
        "outputId": "6cac48e0-33c6-46e6-9798-bc12da4eca6a"
      },
      "outputs": [
        {
          "output_type": "execute_result",
          "data": {
            "text/plain": [
              "MultinomialNB()"
            ],
            "text/html": [
              "<style>#sk-container-id-2 {color: black;background-color: white;}#sk-container-id-2 pre{padding: 0;}#sk-container-id-2 div.sk-toggleable {background-color: white;}#sk-container-id-2 label.sk-toggleable__label {cursor: pointer;display: block;width: 100%;margin-bottom: 0;padding: 0.3em;box-sizing: border-box;text-align: center;}#sk-container-id-2 label.sk-toggleable__label-arrow:before {content: \"▸\";float: left;margin-right: 0.25em;color: #696969;}#sk-container-id-2 label.sk-toggleable__label-arrow:hover:before {color: black;}#sk-container-id-2 div.sk-estimator:hover label.sk-toggleable__label-arrow:before {color: black;}#sk-container-id-2 div.sk-toggleable__content {max-height: 0;max-width: 0;overflow: hidden;text-align: left;background-color: #f0f8ff;}#sk-container-id-2 div.sk-toggleable__content pre {margin: 0.2em;color: black;border-radius: 0.25em;background-color: #f0f8ff;}#sk-container-id-2 input.sk-toggleable__control:checked~div.sk-toggleable__content {max-height: 200px;max-width: 100%;overflow: auto;}#sk-container-id-2 input.sk-toggleable__control:checked~label.sk-toggleable__label-arrow:before {content: \"▾\";}#sk-container-id-2 div.sk-estimator input.sk-toggleable__control:checked~label.sk-toggleable__label {background-color: #d4ebff;}#sk-container-id-2 div.sk-label input.sk-toggleable__control:checked~label.sk-toggleable__label {background-color: #d4ebff;}#sk-container-id-2 input.sk-hidden--visually {border: 0;clip: rect(1px 1px 1px 1px);clip: rect(1px, 1px, 1px, 1px);height: 1px;margin: -1px;overflow: hidden;padding: 0;position: absolute;width: 1px;}#sk-container-id-2 div.sk-estimator {font-family: monospace;background-color: #f0f8ff;border: 1px dotted black;border-radius: 0.25em;box-sizing: border-box;margin-bottom: 0.5em;}#sk-container-id-2 div.sk-estimator:hover {background-color: #d4ebff;}#sk-container-id-2 div.sk-parallel-item::after {content: \"\";width: 100%;border-bottom: 1px solid gray;flex-grow: 1;}#sk-container-id-2 div.sk-label:hover label.sk-toggleable__label {background-color: #d4ebff;}#sk-container-id-2 div.sk-serial::before {content: \"\";position: absolute;border-left: 1px solid gray;box-sizing: border-box;top: 0;bottom: 0;left: 50%;z-index: 0;}#sk-container-id-2 div.sk-serial {display: flex;flex-direction: column;align-items: center;background-color: white;padding-right: 0.2em;padding-left: 0.2em;position: relative;}#sk-container-id-2 div.sk-item {position: relative;z-index: 1;}#sk-container-id-2 div.sk-parallel {display: flex;align-items: stretch;justify-content: center;background-color: white;position: relative;}#sk-container-id-2 div.sk-item::before, #sk-container-id-2 div.sk-parallel-item::before {content: \"\";position: absolute;border-left: 1px solid gray;box-sizing: border-box;top: 0;bottom: 0;left: 50%;z-index: -1;}#sk-container-id-2 div.sk-parallel-item {display: flex;flex-direction: column;z-index: 1;position: relative;background-color: white;}#sk-container-id-2 div.sk-parallel-item:first-child::after {align-self: flex-end;width: 50%;}#sk-container-id-2 div.sk-parallel-item:last-child::after {align-self: flex-start;width: 50%;}#sk-container-id-2 div.sk-parallel-item:only-child::after {width: 0;}#sk-container-id-2 div.sk-dashed-wrapped {border: 1px dashed gray;margin: 0 0.4em 0.5em 0.4em;box-sizing: border-box;padding-bottom: 0.4em;background-color: white;}#sk-container-id-2 div.sk-label label {font-family: monospace;font-weight: bold;display: inline-block;line-height: 1.2em;}#sk-container-id-2 div.sk-label-container {text-align: center;}#sk-container-id-2 div.sk-container {/* jupyter's `normalize.less` sets `[hidden] { display: none; }` but bootstrap.min.css set `[hidden] { display: none !important; }` so we also need the `!important` here to be able to override the default hidden behavior on the sphinx rendered scikit-learn.org. See: https://github.com/scikit-learn/scikit-learn/issues/21755 */display: inline-block !important;position: relative;}#sk-container-id-2 div.sk-text-repr-fallback {display: none;}</style><div id=\"sk-container-id-2\" class=\"sk-top-container\"><div class=\"sk-text-repr-fallback\"><pre>MultinomialNB()</pre><b>In a Jupyter environment, please rerun this cell to show the HTML representation or trust the notebook. <br />On GitHub, the HTML representation is unable to render, please try loading this page with nbviewer.org.</b></div><div class=\"sk-container\" hidden><div class=\"sk-item\"><div class=\"sk-estimator sk-toggleable\"><input class=\"sk-toggleable__control sk-hidden--visually\" id=\"sk-estimator-id-2\" type=\"checkbox\" checked><label for=\"sk-estimator-id-2\" class=\"sk-toggleable__label sk-toggleable__label-arrow\">MultinomialNB</label><div class=\"sk-toggleable__content\"><pre>MultinomialNB()</pre></div></div></div></div></div>"
            ]
          },
          "metadata": {},
          "execution_count": 21
        }
      ],
      "source": [
        "classifier2 = MultinomialNB()\n",
        "classifier2.fit(feature_train, training_y)"
      ]
    },
    {
      "cell_type": "markdown",
      "metadata": {
        "id": "szhg6v6tmcau"
      },
      "source": [
        "### Initialize and Apply MLPClassifier"
      ]
    },
    {
      "cell_type": "code",
      "execution_count": 22,
      "metadata": {
        "colab": {
          "base_uri": "https://localhost:8080/",
          "height": 91
        },
        "id": "PHmMQChKXFNX",
        "outputId": "97659fa8-4390-4264-af8d-3ebb8b6473c0"
      },
      "outputs": [
        {
          "output_type": "execute_result",
          "data": {
            "text/plain": [
              "MLPClassifier(alpha=1e-05, hidden_layer_sizes=(128, 2), random_state=1,\n",
              "              solver='lbfgs')"
            ],
            "text/html": [
              "<style>#sk-container-id-3 {color: black;background-color: white;}#sk-container-id-3 pre{padding: 0;}#sk-container-id-3 div.sk-toggleable {background-color: white;}#sk-container-id-3 label.sk-toggleable__label {cursor: pointer;display: block;width: 100%;margin-bottom: 0;padding: 0.3em;box-sizing: border-box;text-align: center;}#sk-container-id-3 label.sk-toggleable__label-arrow:before {content: \"▸\";float: left;margin-right: 0.25em;color: #696969;}#sk-container-id-3 label.sk-toggleable__label-arrow:hover:before {color: black;}#sk-container-id-3 div.sk-estimator:hover label.sk-toggleable__label-arrow:before {color: black;}#sk-container-id-3 div.sk-toggleable__content {max-height: 0;max-width: 0;overflow: hidden;text-align: left;background-color: #f0f8ff;}#sk-container-id-3 div.sk-toggleable__content pre {margin: 0.2em;color: black;border-radius: 0.25em;background-color: #f0f8ff;}#sk-container-id-3 input.sk-toggleable__control:checked~div.sk-toggleable__content {max-height: 200px;max-width: 100%;overflow: auto;}#sk-container-id-3 input.sk-toggleable__control:checked~label.sk-toggleable__label-arrow:before {content: \"▾\";}#sk-container-id-3 div.sk-estimator input.sk-toggleable__control:checked~label.sk-toggleable__label {background-color: #d4ebff;}#sk-container-id-3 div.sk-label input.sk-toggleable__control:checked~label.sk-toggleable__label {background-color: #d4ebff;}#sk-container-id-3 input.sk-hidden--visually {border: 0;clip: rect(1px 1px 1px 1px);clip: rect(1px, 1px, 1px, 1px);height: 1px;margin: -1px;overflow: hidden;padding: 0;position: absolute;width: 1px;}#sk-container-id-3 div.sk-estimator {font-family: monospace;background-color: #f0f8ff;border: 1px dotted black;border-radius: 0.25em;box-sizing: border-box;margin-bottom: 0.5em;}#sk-container-id-3 div.sk-estimator:hover {background-color: #d4ebff;}#sk-container-id-3 div.sk-parallel-item::after {content: \"\";width: 100%;border-bottom: 1px solid gray;flex-grow: 1;}#sk-container-id-3 div.sk-label:hover label.sk-toggleable__label {background-color: #d4ebff;}#sk-container-id-3 div.sk-serial::before {content: \"\";position: absolute;border-left: 1px solid gray;box-sizing: border-box;top: 0;bottom: 0;left: 50%;z-index: 0;}#sk-container-id-3 div.sk-serial {display: flex;flex-direction: column;align-items: center;background-color: white;padding-right: 0.2em;padding-left: 0.2em;position: relative;}#sk-container-id-3 div.sk-item {position: relative;z-index: 1;}#sk-container-id-3 div.sk-parallel {display: flex;align-items: stretch;justify-content: center;background-color: white;position: relative;}#sk-container-id-3 div.sk-item::before, #sk-container-id-3 div.sk-parallel-item::before {content: \"\";position: absolute;border-left: 1px solid gray;box-sizing: border-box;top: 0;bottom: 0;left: 50%;z-index: -1;}#sk-container-id-3 div.sk-parallel-item {display: flex;flex-direction: column;z-index: 1;position: relative;background-color: white;}#sk-container-id-3 div.sk-parallel-item:first-child::after {align-self: flex-end;width: 50%;}#sk-container-id-3 div.sk-parallel-item:last-child::after {align-self: flex-start;width: 50%;}#sk-container-id-3 div.sk-parallel-item:only-child::after {width: 0;}#sk-container-id-3 div.sk-dashed-wrapped {border: 1px dashed gray;margin: 0 0.4em 0.5em 0.4em;box-sizing: border-box;padding-bottom: 0.4em;background-color: white;}#sk-container-id-3 div.sk-label label {font-family: monospace;font-weight: bold;display: inline-block;line-height: 1.2em;}#sk-container-id-3 div.sk-label-container {text-align: center;}#sk-container-id-3 div.sk-container {/* jupyter's `normalize.less` sets `[hidden] { display: none; }` but bootstrap.min.css set `[hidden] { display: none !important; }` so we also need the `!important` here to be able to override the default hidden behavior on the sphinx rendered scikit-learn.org. See: https://github.com/scikit-learn/scikit-learn/issues/21755 */display: inline-block !important;position: relative;}#sk-container-id-3 div.sk-text-repr-fallback {display: none;}</style><div id=\"sk-container-id-3\" class=\"sk-top-container\"><div class=\"sk-text-repr-fallback\"><pre>MLPClassifier(alpha=1e-05, hidden_layer_sizes=(128, 2), random_state=1,\n",
              "              solver=&#x27;lbfgs&#x27;)</pre><b>In a Jupyter environment, please rerun this cell to show the HTML representation or trust the notebook. <br />On GitHub, the HTML representation is unable to render, please try loading this page with nbviewer.org.</b></div><div class=\"sk-container\" hidden><div class=\"sk-item\"><div class=\"sk-estimator sk-toggleable\"><input class=\"sk-toggleable__control sk-hidden--visually\" id=\"sk-estimator-id-3\" type=\"checkbox\" checked><label for=\"sk-estimator-id-3\" class=\"sk-toggleable__label sk-toggleable__label-arrow\">MLPClassifier</label><div class=\"sk-toggleable__content\"><pre>MLPClassifier(alpha=1e-05, hidden_layer_sizes=(128, 2), random_state=1,\n",
              "              solver=&#x27;lbfgs&#x27;)</pre></div></div></div></div></div>"
            ]
          },
          "metadata": {},
          "execution_count": 22
        }
      ],
      "source": [
        "classifier3 = MLPClassifier(solver='lbfgs', alpha=1e-5,\n",
        "                     hidden_layer_sizes=(128, 2), random_state=1)\n",
        "classifier3.fit(feature_train, training_y)"
      ]
    },
    {
      "cell_type": "markdown",
      "metadata": {
        "id": "zLR32EW7XKRb"
      },
      "source": [
        "### Initialize and Apply RandomForestClassifier"
      ]
    },
    {
      "cell_type": "code",
      "execution_count": 23,
      "metadata": {
        "colab": {
          "base_uri": "https://localhost:8080/",
          "height": 74
        },
        "id": "7tRkZcyMN6TK",
        "outputId": "56a8c19c-5a55-4276-b80e-7a77d024dead"
      },
      "outputs": [
        {
          "output_type": "execute_result",
          "data": {
            "text/plain": [
              "RandomForestClassifier()"
            ],
            "text/html": [
              "<style>#sk-container-id-4 {color: black;background-color: white;}#sk-container-id-4 pre{padding: 0;}#sk-container-id-4 div.sk-toggleable {background-color: white;}#sk-container-id-4 label.sk-toggleable__label {cursor: pointer;display: block;width: 100%;margin-bottom: 0;padding: 0.3em;box-sizing: border-box;text-align: center;}#sk-container-id-4 label.sk-toggleable__label-arrow:before {content: \"▸\";float: left;margin-right: 0.25em;color: #696969;}#sk-container-id-4 label.sk-toggleable__label-arrow:hover:before {color: black;}#sk-container-id-4 div.sk-estimator:hover label.sk-toggleable__label-arrow:before {color: black;}#sk-container-id-4 div.sk-toggleable__content {max-height: 0;max-width: 0;overflow: hidden;text-align: left;background-color: #f0f8ff;}#sk-container-id-4 div.sk-toggleable__content pre {margin: 0.2em;color: black;border-radius: 0.25em;background-color: #f0f8ff;}#sk-container-id-4 input.sk-toggleable__control:checked~div.sk-toggleable__content {max-height: 200px;max-width: 100%;overflow: auto;}#sk-container-id-4 input.sk-toggleable__control:checked~label.sk-toggleable__label-arrow:before {content: \"▾\";}#sk-container-id-4 div.sk-estimator input.sk-toggleable__control:checked~label.sk-toggleable__label {background-color: #d4ebff;}#sk-container-id-4 div.sk-label input.sk-toggleable__control:checked~label.sk-toggleable__label {background-color: #d4ebff;}#sk-container-id-4 input.sk-hidden--visually {border: 0;clip: rect(1px 1px 1px 1px);clip: rect(1px, 1px, 1px, 1px);height: 1px;margin: -1px;overflow: hidden;padding: 0;position: absolute;width: 1px;}#sk-container-id-4 div.sk-estimator {font-family: monospace;background-color: #f0f8ff;border: 1px dotted black;border-radius: 0.25em;box-sizing: border-box;margin-bottom: 0.5em;}#sk-container-id-4 div.sk-estimator:hover {background-color: #d4ebff;}#sk-container-id-4 div.sk-parallel-item::after {content: \"\";width: 100%;border-bottom: 1px solid gray;flex-grow: 1;}#sk-container-id-4 div.sk-label:hover label.sk-toggleable__label {background-color: #d4ebff;}#sk-container-id-4 div.sk-serial::before {content: \"\";position: absolute;border-left: 1px solid gray;box-sizing: border-box;top: 0;bottom: 0;left: 50%;z-index: 0;}#sk-container-id-4 div.sk-serial {display: flex;flex-direction: column;align-items: center;background-color: white;padding-right: 0.2em;padding-left: 0.2em;position: relative;}#sk-container-id-4 div.sk-item {position: relative;z-index: 1;}#sk-container-id-4 div.sk-parallel {display: flex;align-items: stretch;justify-content: center;background-color: white;position: relative;}#sk-container-id-4 div.sk-item::before, #sk-container-id-4 div.sk-parallel-item::before {content: \"\";position: absolute;border-left: 1px solid gray;box-sizing: border-box;top: 0;bottom: 0;left: 50%;z-index: -1;}#sk-container-id-4 div.sk-parallel-item {display: flex;flex-direction: column;z-index: 1;position: relative;background-color: white;}#sk-container-id-4 div.sk-parallel-item:first-child::after {align-self: flex-end;width: 50%;}#sk-container-id-4 div.sk-parallel-item:last-child::after {align-self: flex-start;width: 50%;}#sk-container-id-4 div.sk-parallel-item:only-child::after {width: 0;}#sk-container-id-4 div.sk-dashed-wrapped {border: 1px dashed gray;margin: 0 0.4em 0.5em 0.4em;box-sizing: border-box;padding-bottom: 0.4em;background-color: white;}#sk-container-id-4 div.sk-label label {font-family: monospace;font-weight: bold;display: inline-block;line-height: 1.2em;}#sk-container-id-4 div.sk-label-container {text-align: center;}#sk-container-id-4 div.sk-container {/* jupyter's `normalize.less` sets `[hidden] { display: none; }` but bootstrap.min.css set `[hidden] { display: none !important; }` so we also need the `!important` here to be able to override the default hidden behavior on the sphinx rendered scikit-learn.org. See: https://github.com/scikit-learn/scikit-learn/issues/21755 */display: inline-block !important;position: relative;}#sk-container-id-4 div.sk-text-repr-fallback {display: none;}</style><div id=\"sk-container-id-4\" class=\"sk-top-container\"><div class=\"sk-text-repr-fallback\"><pre>RandomForestClassifier()</pre><b>In a Jupyter environment, please rerun this cell to show the HTML representation or trust the notebook. <br />On GitHub, the HTML representation is unable to render, please try loading this page with nbviewer.org.</b></div><div class=\"sk-container\" hidden><div class=\"sk-item\"><div class=\"sk-estimator sk-toggleable\"><input class=\"sk-toggleable__control sk-hidden--visually\" id=\"sk-estimator-id-4\" type=\"checkbox\" checked><label for=\"sk-estimator-id-4\" class=\"sk-toggleable__label sk-toggleable__label-arrow\">RandomForestClassifier</label><div class=\"sk-toggleable__content\"><pre>RandomForestClassifier()</pre></div></div></div></div></div>"
            ]
          },
          "metadata": {},
          "execution_count": 23
        }
      ],
      "source": [
        "classifier4 = RandomForestClassifier()\n",
        "classifier4.fit(feature_train, training_y)"
      ]
    },
    {
      "cell_type": "markdown",
      "metadata": {
        "id": "TCqBCOhHk4SP"
      },
      "source": [
        "## Step 9: Test the Classifier\n",
        "\n",
        "After classifying the data, let’s use these classifiers to predict the results on the testing data. The testing data is the remaining `30%` of the complete DataFrame we made earlier. We will use the `predict()` method from the classifier and pass the testing feature of the dataset. We will also use the `accuracy_score()` method to get the model’s score."
      ]
    },
    {
      "cell_type": "code",
      "execution_count": 24,
      "metadata": {
        "colab": {
          "base_uri": "https://localhost:8080/"
        },
        "id": "fXxYNonSOhYQ",
        "outputId": "b8cfceb0-e487-4439-e7b6-148a624fa037"
      },
      "outputs": [
        {
          "output_type": "stream",
          "name": "stdout",
          "text": [
            "Accuracy of PassiveAggressiveClassifier:  91.27669241253975\n"
          ]
        }
      ],
      "source": [
        "# Test PassiveAggressiveClassifier\n",
        "prediction = classifier.predict(feature_test)\n",
        "score = accuracy_score(testing_y, prediction)\n",
        "\n",
        "print(\"Accuracy of PassiveAggressiveClassifier: \", score*100)"
      ]
    },
    {
      "cell_type": "code",
      "execution_count": 25,
      "metadata": {
        "colab": {
          "base_uri": "https://localhost:8080/"
        },
        "id": "wSiVLIGKZDxl",
        "outputId": "6ee09ff1-aca0-49b1-eed6-592df6cfb914"
      },
      "outputs": [
        {
          "output_type": "stream",
          "name": "stdout",
          "text": [
            "Accuracy of MultinomialNB:  90.45888232621536\n"
          ]
        }
      ],
      "source": [
        "# Test MultinomialNB\n",
        "prediction2 = classifier2.predict(feature_test)\n",
        "score2 = accuracy_score(testing_y, prediction2)\n",
        "\n",
        "print(\"Accuracy of MultinomialNB: \", score2*100)"
      ]
    },
    {
      "cell_type": "code",
      "execution_count": 26,
      "metadata": {
        "colab": {
          "base_uri": "https://localhost:8080/"
        },
        "id": "D96apCLTXfEu",
        "outputId": "99ee5aa2-afed-4145-b50e-5e93bdae2f5b"
      },
      "outputs": [
        {
          "output_type": "stream",
          "name": "stdout",
          "text": [
            "Accuracy of MLP:  92.86687869150386\n"
          ]
        }
      ],
      "source": [
        "# Test MLP\n",
        "prediction3 = classifier3.predict(feature_test)\n",
        "score3 = accuracy_score(testing_y, prediction3)\n",
        "\n",
        "print(\"Accuracy of MLP: \", score3*100)"
      ]
    },
    {
      "cell_type": "code",
      "execution_count": 28,
      "metadata": {
        "colab": {
          "base_uri": "https://localhost:8080/"
        },
        "id": "Pp9EmhHCOC18",
        "outputId": "c6714004-67d5-447a-e700-d4754182146c"
      },
      "outputs": [
        {
          "output_type": "stream",
          "name": "stdout",
          "text": [
            "Accuracy of Random Forest:  91.23125851885506\n"
          ]
        }
      ],
      "source": [
        "prediction4 = classifier4.predict(feature_test)\n",
        "score4 = accuracy_score(testing_y, prediction4)\n",
        "\n",
        "print(\"Accuracy of Random Forest: \", score4*100)"
      ]
    },
    {
      "cell_type": "markdown",
      "metadata": {
        "id": "SpQsvQwol0tn"
      },
      "source": [
        "## Step 10: Load the Test Data\n",
        "After completing the model, we will try it on test data which is not from any actual source but specifically created to verify the model. This DataFrame contains some fake news and some real news to verify the model. We will load the data from the `test_data.csv` file."
      ]
    },
    {
      "cell_type": "code",
      "execution_count": 29,
      "metadata": {
        "colab": {
          "base_uri": "https://localhost:8080/",
          "height": 204
        },
        "id": "JOjtxFGzOiwB",
        "outputId": "01ba7b5b-3b9a-4fb6-d01c-a05ea01a51a6"
      },
      "outputs": [
        {
          "output_type": "execute_result",
          "data": {
            "text/plain": [
              "   Unnamed: 0  Unnamed: 1                                              title  \\\n",
              "0         914        7014  Trumps Hollywood Walk of Fame star Destroyed w...   \n",
              "1        4058        6440  Corporate Army smashes Dakota barbarians near ...   \n",
              "2        4982        6125  German Panzers to Rumble Once More Along Russi...   \n",
              "3         800        8389  Contaminated Food from China Now Entering the ...   \n",
              "4        4871         976  Cruz likely to block Trump on a second ballot ...   \n",
              "\n",
              "                                                text label  \n",
              "0  Trump's Hollywood Walk of Fame star Destroyed ...  FAKE  \n",
              "1  Corporate Army smashes Dakota barbarians near ...  FAKE  \n",
              "2  Citizen journalism with a punch German Panzers...  FAKE  \n",
              "3  Contaminated Food from China Now Entering the ...  FAKE  \n",
              "4  Republican presidential candidate Ted Cruz is ...  REAL  "
            ],
            "text/html": [
              "\n",
              "  <div id=\"df-27e8286f-4d7a-415a-9253-5a18da47fa27\">\n",
              "    <div class=\"colab-df-container\">\n",
              "      <div>\n",
              "<style scoped>\n",
              "    .dataframe tbody tr th:only-of-type {\n",
              "        vertical-align: middle;\n",
              "    }\n",
              "\n",
              "    .dataframe tbody tr th {\n",
              "        vertical-align: top;\n",
              "    }\n",
              "\n",
              "    .dataframe thead th {\n",
              "        text-align: right;\n",
              "    }\n",
              "</style>\n",
              "<table border=\"1\" class=\"dataframe\">\n",
              "  <thead>\n",
              "    <tr style=\"text-align: right;\">\n",
              "      <th></th>\n",
              "      <th>Unnamed: 0</th>\n",
              "      <th>Unnamed: 1</th>\n",
              "      <th>title</th>\n",
              "      <th>text</th>\n",
              "      <th>label</th>\n",
              "    </tr>\n",
              "  </thead>\n",
              "  <tbody>\n",
              "    <tr>\n",
              "      <th>0</th>\n",
              "      <td>914</td>\n",
              "      <td>7014</td>\n",
              "      <td>Trumps Hollywood Walk of Fame star Destroyed w...</td>\n",
              "      <td>Trump's Hollywood Walk of Fame star Destroyed ...</td>\n",
              "      <td>FAKE</td>\n",
              "    </tr>\n",
              "    <tr>\n",
              "      <th>1</th>\n",
              "      <td>4058</td>\n",
              "      <td>6440</td>\n",
              "      <td>Corporate Army smashes Dakota barbarians near ...</td>\n",
              "      <td>Corporate Army smashes Dakota barbarians near ...</td>\n",
              "      <td>FAKE</td>\n",
              "    </tr>\n",
              "    <tr>\n",
              "      <th>2</th>\n",
              "      <td>4982</td>\n",
              "      <td>6125</td>\n",
              "      <td>German Panzers to Rumble Once More Along Russi...</td>\n",
              "      <td>Citizen journalism with a punch German Panzers...</td>\n",
              "      <td>FAKE</td>\n",
              "    </tr>\n",
              "    <tr>\n",
              "      <th>3</th>\n",
              "      <td>800</td>\n",
              "      <td>8389</td>\n",
              "      <td>Contaminated Food from China Now Entering the ...</td>\n",
              "      <td>Contaminated Food from China Now Entering the ...</td>\n",
              "      <td>FAKE</td>\n",
              "    </tr>\n",
              "    <tr>\n",
              "      <th>4</th>\n",
              "      <td>4871</td>\n",
              "      <td>976</td>\n",
              "      <td>Cruz likely to block Trump on a second ballot ...</td>\n",
              "      <td>Republican presidential candidate Ted Cruz is ...</td>\n",
              "      <td>REAL</td>\n",
              "    </tr>\n",
              "  </tbody>\n",
              "</table>\n",
              "</div>\n",
              "      <button class=\"colab-df-convert\" onclick=\"convertToInteractive('df-27e8286f-4d7a-415a-9253-5a18da47fa27')\"\n",
              "              title=\"Convert this dataframe to an interactive table.\"\n",
              "              style=\"display:none;\">\n",
              "        \n",
              "  <svg xmlns=\"http://www.w3.org/2000/svg\" height=\"24px\"viewBox=\"0 0 24 24\"\n",
              "       width=\"24px\">\n",
              "    <path d=\"M0 0h24v24H0V0z\" fill=\"none\"/>\n",
              "    <path d=\"M18.56 5.44l.94 2.06.94-2.06 2.06-.94-2.06-.94-.94-2.06-.94 2.06-2.06.94zm-11 1L8.5 8.5l.94-2.06 2.06-.94-2.06-.94L8.5 2.5l-.94 2.06-2.06.94zm10 10l.94 2.06.94-2.06 2.06-.94-2.06-.94-.94-2.06-.94 2.06-2.06.94z\"/><path d=\"M17.41 7.96l-1.37-1.37c-.4-.4-.92-.59-1.43-.59-.52 0-1.04.2-1.43.59L10.3 9.45l-7.72 7.72c-.78.78-.78 2.05 0 2.83L4 21.41c.39.39.9.59 1.41.59.51 0 1.02-.2 1.41-.59l7.78-7.78 2.81-2.81c.8-.78.8-2.07 0-2.86zM5.41 20L4 18.59l7.72-7.72 1.47 1.35L5.41 20z\"/>\n",
              "  </svg>\n",
              "      </button>\n",
              "      \n",
              "  <style>\n",
              "    .colab-df-container {\n",
              "      display:flex;\n",
              "      flex-wrap:wrap;\n",
              "      gap: 12px;\n",
              "    }\n",
              "\n",
              "    .colab-df-convert {\n",
              "      background-color: #E8F0FE;\n",
              "      border: none;\n",
              "      border-radius: 50%;\n",
              "      cursor: pointer;\n",
              "      display: none;\n",
              "      fill: #1967D2;\n",
              "      height: 32px;\n",
              "      padding: 0 0 0 0;\n",
              "      width: 32px;\n",
              "    }\n",
              "\n",
              "    .colab-df-convert:hover {\n",
              "      background-color: #E2EBFA;\n",
              "      box-shadow: 0px 1px 2px rgba(60, 64, 67, 0.3), 0px 1px 3px 1px rgba(60, 64, 67, 0.15);\n",
              "      fill: #174EA6;\n",
              "    }\n",
              "\n",
              "    [theme=dark] .colab-df-convert {\n",
              "      background-color: #3B4455;\n",
              "      fill: #D2E3FC;\n",
              "    }\n",
              "\n",
              "    [theme=dark] .colab-df-convert:hover {\n",
              "      background-color: #434B5C;\n",
              "      box-shadow: 0px 1px 3px 1px rgba(0, 0, 0, 0.15);\n",
              "      filter: drop-shadow(0px 1px 2px rgba(0, 0, 0, 0.3));\n",
              "      fill: #FFFFFF;\n",
              "    }\n",
              "  </style>\n",
              "\n",
              "      <script>\n",
              "        const buttonEl =\n",
              "          document.querySelector('#df-27e8286f-4d7a-415a-9253-5a18da47fa27 button.colab-df-convert');\n",
              "        buttonEl.style.display =\n",
              "          google.colab.kernel.accessAllowed ? 'block' : 'none';\n",
              "\n",
              "        async function convertToInteractive(key) {\n",
              "          const element = document.querySelector('#df-27e8286f-4d7a-415a-9253-5a18da47fa27');\n",
              "          const dataTable =\n",
              "            await google.colab.kernel.invokeFunction('convertToInteractive',\n",
              "                                                     [key], {});\n",
              "          if (!dataTable) return;\n",
              "\n",
              "          const docLinkHtml = 'Like what you see? Visit the ' +\n",
              "            '<a target=\"_blank\" href=https://colab.research.google.com/notebooks/data_table.ipynb>data table notebook</a>'\n",
              "            + ' to learn more about interactive tables.';\n",
              "          element.innerHTML = '';\n",
              "          dataTable['output_type'] = 'display_data';\n",
              "          await google.colab.output.renderOutput(dataTable, element);\n",
              "          const docLink = document.createElement('div');\n",
              "          docLink.innerHTML = docLinkHtml;\n",
              "          element.appendChild(docLink);\n",
              "        }\n",
              "      </script>\n",
              "    </div>\n",
              "  </div>\n",
              "  "
            ]
          },
          "metadata": {},
          "execution_count": 29
        }
      ],
      "source": [
        "test_data = pd.read_csv('test_data.csv')\n",
        "test_labels = test_data.label\n",
        "test_data.head()"
      ]
    },
    {
      "cell_type": "markdown",
      "metadata": {
        "id": "dUlI6AxRmrSg"
      },
      "source": [
        "## Step 11: Select Features and Get Predictions\n",
        "\n",
        "Let’s select the features from the test data and get a prediction based on those features. We will use `CountVectorizer.transform` to select features from the `test_data`. After getting the features from the `test_data`, we will use the `predict()` method to get the prediction using each classifier."
      ]
    },
    {
      "cell_type": "code",
      "execution_count": 30,
      "metadata": {
        "id": "NhLpebEfOj8n"
      },
      "outputs": [],
      "source": [
        "# Select Features and Get Predictions for PassiveAggressiveClassifier\n",
        "test_data_feature = count_vectorizer.transform(test_data['text'])\n",
        "prediction = classifier.predict(test_data_feature)"
      ]
    },
    {
      "cell_type": "code",
      "execution_count": 31,
      "metadata": {
        "id": "0SskZV2wPHBf"
      },
      "outputs": [],
      "source": [
        "# Select Features and Get Predictions for MultinomialNB\n",
        "test_data_feature2 = count_vectorizer.transform(test_data['text'])\n",
        "prediction2 = classifier2.predict(test_data_feature2)"
      ]
    },
    {
      "cell_type": "code",
      "execution_count": 32,
      "metadata": {
        "id": "dh7kYYNvXsZc"
      },
      "outputs": [],
      "source": [
        "test_data_feature3 = count_vectorizer.transform(test_data['text'])\n",
        "prediction3 = classifier3.predict(test_data_feature3)"
      ]
    },
    {
      "cell_type": "code",
      "execution_count": 33,
      "metadata": {
        "id": "wlp4ByNiOfBK"
      },
      "outputs": [],
      "source": [
        "test_data_feature4 = count_vectorizer.transform(test_data['text'])\n",
        "prediction4 = classifier4.predict(test_data_feature4)"
      ]
    },
    {
      "cell_type": "markdown",
      "metadata": {
        "id": "-XIiKjhwoSGn"
      },
      "source": [
        "## Step 12: Evaluate the Predictions\n",
        "\n",
        "After getting the predictions from the classifier, we will evaluate the predictions using the following methods:\n",
        "\n",
        "* We will print all the predictions and `test_labels` side by side to visualize the results.\n",
        "* We will use the `accuracy_score()` method to print the score of the classifier on the data."
      ]
    },
    {
      "cell_type": "code",
      "execution_count": 34,
      "metadata": {
        "colab": {
          "base_uri": "https://localhost:8080/"
        },
        "id": "n8Mj03GwNV3m",
        "outputId": "efee0951-91e6-43d8-aafd-d38410af2769"
      },
      "outputs": [
        {
          "output_type": "stream",
          "name": "stdout",
          "text": [
            "FAKE FAKE\n",
            "FAKE FAKE\n",
            "FAKE FAKE\n",
            "FAKE FAKE\n",
            "REAL REAL\n",
            "FAKE FAKE\n",
            "REAL REAL\n",
            "FAKE FAKE\n",
            "FAKE FAKE\n",
            "FAKE FAKE\n",
            "FAKE FAKE\n",
            "REAL REAL\n",
            "FAKE FAKE\n",
            "REAL REAL\n",
            "FAKE FAKE\n",
            "REAL REAL\n",
            "REAL REAL\n",
            "FAKE FAKE\n",
            "REAL REAL\n",
            "FAKE FAKE\n",
            "Accuracy:  100.0 %\n"
          ]
        }
      ],
      "source": [
        "# Evaluate the Predictions for PassiveAggressiveClassifier\n",
        "for i in range(len(test_labels)):\n",
        "    print(test_labels[i], prediction[i])\n",
        "\n",
        "score = accuracy_score(test_labels, prediction)\n",
        "print(\"Accuracy: \", score*100, \"%\")"
      ]
    },
    {
      "cell_type": "code",
      "execution_count": 35,
      "metadata": {
        "colab": {
          "base_uri": "https://localhost:8080/"
        },
        "id": "X7gX_FiqNYAL",
        "outputId": "6633a237-5e0c-41ad-908e-f1ff23ceae69"
      },
      "outputs": [
        {
          "output_type": "stream",
          "name": "stdout",
          "text": [
            "FAKE FAKE\n",
            "FAKE FAKE\n",
            "FAKE FAKE\n",
            "FAKE FAKE\n",
            "REAL REAL\n",
            "FAKE FAKE\n",
            "REAL REAL\n",
            "FAKE FAKE\n",
            "FAKE FAKE\n",
            "FAKE FAKE\n",
            "FAKE FAKE\n",
            "REAL REAL\n",
            "FAKE FAKE\n",
            "REAL REAL\n",
            "FAKE REAL\n",
            "REAL REAL\n",
            "REAL REAL\n",
            "FAKE FAKE\n",
            "REAL REAL\n",
            "FAKE FAKE\n",
            "Accuracy:  95.0 %\n"
          ]
        }
      ],
      "source": [
        "# Evaluate the Predictions for MultinomialNB\n",
        "for i in range(len(test_labels)):\n",
        "    print(test_labels[i], prediction2[i])\n",
        "\n",
        "score2 = accuracy_score(test_labels, prediction2)\n",
        "print(\"Accuracy: \", score2*100, \"%\")"
      ]
    },
    {
      "cell_type": "code",
      "execution_count": 36,
      "metadata": {
        "colab": {
          "base_uri": "https://localhost:8080/"
        },
        "id": "2ut2MCp8X2TM",
        "outputId": "d1bb1eeb-c6b6-449b-be2e-ef27893deb7e"
      },
      "outputs": [
        {
          "output_type": "stream",
          "name": "stdout",
          "text": [
            "FAKE FAKE\n",
            "FAKE FAKE\n",
            "FAKE FAKE\n",
            "FAKE FAKE\n",
            "REAL REAL\n",
            "FAKE FAKE\n",
            "REAL REAL\n",
            "FAKE FAKE\n",
            "FAKE FAKE\n",
            "FAKE FAKE\n",
            "FAKE FAKE\n",
            "REAL REAL\n",
            "FAKE FAKE\n",
            "REAL REAL\n",
            "FAKE FAKE\n",
            "REAL REAL\n",
            "REAL REAL\n",
            "FAKE FAKE\n",
            "REAL REAL\n",
            "FAKE FAKE\n",
            "Accuracy:  100.0 %\n"
          ]
        }
      ],
      "source": [
        "for i in range(len(test_labels)):\n",
        "    print(test_labels[i], prediction3[i])\n",
        "\n",
        "score3 = accuracy_score(test_labels, prediction3)\n",
        "print(\"Accuracy: \", score3*100, \"%\")"
      ]
    },
    {
      "cell_type": "code",
      "execution_count": 37,
      "metadata": {
        "colab": {
          "base_uri": "https://localhost:8080/"
        },
        "id": "y3LKZTo_OoLe",
        "outputId": "461f815b-5eaa-40f3-b14c-91a2e12dc149"
      },
      "outputs": [
        {
          "output_type": "stream",
          "name": "stdout",
          "text": [
            "FAKE FAKE\n",
            "FAKE FAKE\n",
            "FAKE FAKE\n",
            "FAKE FAKE\n",
            "REAL REAL\n",
            "FAKE FAKE\n",
            "REAL REAL\n",
            "FAKE FAKE\n",
            "FAKE FAKE\n",
            "FAKE FAKE\n",
            "FAKE FAKE\n",
            "REAL REAL\n",
            "FAKE FAKE\n",
            "REAL REAL\n",
            "FAKE FAKE\n",
            "REAL REAL\n",
            "REAL REAL\n",
            "FAKE FAKE\n",
            "REAL FAKE\n",
            "FAKE FAKE\n",
            "Accuracy:  95.0 %\n"
          ]
        }
      ],
      "source": [
        "# Evaluate the Predictions for Random Forest\n",
        "for i in range(len(test_labels)):\n",
        "    print(test_labels[i], prediction4[i])\n",
        "\n",
        "score4 = accuracy_score(test_labels, prediction4)\n",
        "print(\"Accuracy: \", score4*100, \"%\")"
      ]
    },
    {
      "cell_type": "markdown",
      "metadata": {
        "id": "Bw_s2jA4oou-"
      },
      "source": [
        "## Step 13: Construct Confusion Matrices\n",
        "\n",
        "We will also construct confusion matrices to evaluate the predictions and better see the results of each classifier. "
      ]
    },
    {
      "cell_type": "code",
      "execution_count": 38,
      "metadata": {
        "colab": {
          "base_uri": "https://localhost:8080/",
          "height": 1000
        },
        "id": "_C5OVTh6ZLkZ",
        "outputId": "2d192dda-272a-47df-a73f-72d2b1b2e7da"
      },
      "outputs": [
        {
          "output_type": "display_data",
          "data": {
            "text/plain": [
              "<Figure size 640x480 with 2 Axes>"
            ],
            "image/png": "[encoded data removed]"
          },
          "metadata": {}
        },
        {
          "output_type": "display_data",
          "data": {
            "text/plain": [
              "<Figure size 640x480 with 2 Axes>"
            ],
            "image/png": "[encoded data removed]"
          },
          "metadata": {}
        },
        {
          "output_type": "display_data",
          "data": {
            "text/plain": [
              "<Figure size 640x480 with 2 Axes>"
            ],
            "image/png": "[encoded data removed]"
          },
          "metadata": {}
        },
        {
          "output_type": "display_data",
          "data": {
            "text/plain": [
              "<Figure size 640x480 with 2 Axes>"
            ],
            "image/png": "[encoded data removed]"
          },
          "metadata": {}
        }
      ],
      "source": [
        "# Confusion Matrix - Passive Aggressive Classifier\n",
        "cm = confusion_matrix(test_labels, prediction)\n",
        "sns.heatmap(cm, annot=True, cmap='Blues')\n",
        "plt.xlabel('Predicted')\n",
        "plt.ylabel('Actual')\n",
        "plt.title('Confusion Matrix - Passive Aggressive Classifier')\n",
        "plt.show()\n",
        "\n",
        "# Confusion Matrix - MultinomialNB\n",
        "cm2 = confusion_matrix(test_labels, prediction2)\n",
        "sns.heatmap(cm2, annot=True, cmap='Blues')\n",
        "plt.xlabel('Predicted')\n",
        "plt.ylabel('Actual')\n",
        "plt.title('Confusion Matrix - MultinomialNB')\n",
        "plt.show()\n",
        "\n",
        "# Confusion Matrix - MLP\n",
        "cm3 = confusion_matrix(test_labels, prediction3)\n",
        "sns.heatmap(cm3, annot=True, cmap='Blues')\n",
        "plt.xlabel('Predicted')\n",
        "plt.ylabel('Actual')\n",
        "plt.title('Confusion Matrix - MLP')\n",
        "plt.show()\n",
        "\n",
        "# Confusion Matrix - Random Forest\n",
        "cm4 = confusion_matrix(test_labels, prediction4)\n",
        "sns.heatmap(cm4, annot=True, cmap='Blues')\n",
        "plt.xlabel('Predicted')\n",
        "plt.ylabel('Actual')\n",
        "plt.title('Confusion Matrix - Random Forest')\n",
        "plt.show()"
      ]
    },
    {
      "cell_type": "code",
      "execution_count": null,
      "metadata": {
        "id": "OFs0Ayfqs1dN"
      },
      "outputs": [],
      "source": []
    }
  ],
  "metadata": {
    "accelerator": "GPU",
    "colab": {
      "provenance": []
    },
    "gpuClass": "standard",
    "kernelspec": {
      "display_name": "Python 3",
      "name": "python3"
    },
    "language_info": {
      "name": "python"
    }
  },
  "nbformat": 4,
  "nbformat_minor": 0
}
